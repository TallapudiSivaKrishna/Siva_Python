{
  "nbformat": 4,
  "nbformat_minor": 0,
  "metadata": {
    "colab": {
      "provenance": []
    },
    "kernelspec": {
      "name": "python3",
      "display_name": "Python 3"
    },
    "language_info": {
      "name": "python"
    }
  },
  "cells": [
    {
      "cell_type": "code",
      "execution_count": null,
      "metadata": {
        "colab": {
          "base_uri": "https://localhost:8080/"
        },
        "id": "HpmbKqI7jltH",
        "outputId": "53641ed8-fcbb-4912-bcfa-af92fc908c9d"
      },
      "outputs": [
        {
          "output_type": "stream",
          "name": "stdout",
          "text": [
            "hello Siva\n"
          ]
        }
      ],
      "source": [
        "print(\"hello Siva\")"
      ]
    },
    {
      "cell_type": "code",
      "source": [
        "a=100\n",
        "print(id(a))"
      ],
      "metadata": {
        "id": "34ZbDQBAxLWX",
        "colab": {
          "base_uri": "https://localhost:8080/"
        },
        "outputId": "0659931c-e473-43bb-efea-a3718cb259f5"
      },
      "execution_count": null,
      "outputs": [
        {
          "output_type": "stream",
          "name": "stdout",
          "text": [
            "10754024\n"
          ]
        }
      ]
    },
    {
      "cell_type": "code",
      "source": [
        "b=100\n",
        "print(id(b))"
      ],
      "metadata": {
        "id": "QmxCGJjXEU7j",
        "outputId": "6cc49d2d-fed0-43ed-8e0b-9a5d73e01dba",
        "colab": {
          "base_uri": "https://localhost:8080/"
        }
      },
      "execution_count": null,
      "outputs": [
        {
          "output_type": "stream",
          "name": "stdout",
          "text": [
            "10754024\n"
          ]
        }
      ]
    },
    {
      "cell_type": "code",
      "source": [
        "c=100\n",
        "print(id(c))"
      ],
      "metadata": {
        "id": "6hmZb6PgGkFq",
        "outputId": "6adfee90-1ee2-43d9-c178-7f0238a5a42c",
        "colab": {
          "base_uri": "https://localhost:8080/"
        }
      },
      "execution_count": null,
      "outputs": [
        {
          "output_type": "stream",
          "name": "stdout",
          "text": [
            "10754024\n"
          ]
        }
      ]
    },
    {
      "cell_type": "code",
      "source": [
        "a=500\n",
        "print(id(a))"
      ],
      "metadata": {
        "id": "bRIc_uloGpDf",
        "outputId": "bf32363a-e258-483e-ce95-9559e7b2c419",
        "colab": {
          "base_uri": "https://localhost:8080/"
        }
      },
      "execution_count": null,
      "outputs": [
        {
          "output_type": "stream",
          "name": "stdout",
          "text": [
            "136454976453808\n"
          ]
        }
      ]
    },
    {
      "cell_type": "code",
      "source": [
        "b=a\n",
        "print(id(b))"
      ],
      "metadata": {
        "id": "jr2-uuxOGvGD",
        "outputId": "5c34a72b-4645-4084-917b-8b714626720b",
        "colab": {
          "base_uri": "https://localhost:8080/"
        }
      },
      "execution_count": null,
      "outputs": [
        {
          "output_type": "stream",
          "name": "stdout",
          "text": [
            "136454976453808\n"
          ]
        }
      ]
    },
    {
      "cell_type": "code",
      "source": [
        "# The following cose shows the memory management\n",
        "a,b,c =10,20,30\n",
        "print(a, b, c)"
      ],
      "metadata": {
        "id": "zkuIAQVUG9sR",
        "outputId": "b2505323-e067-41a4-a9f1-ba3644b84717",
        "colab": {
          "base_uri": "https://localhost:8080/"
        }
      },
      "execution_count": null,
      "outputs": [
        {
          "output_type": "stream",
          "name": "stdout",
          "text": [
            "10 20 30\n"
          ]
        }
      ]
    },
    {
      "cell_type": "code",
      "source": [
        "import keyword as kw\n",
        "print(kw.kwlist)"
      ],
      "metadata": {
        "id": "cSouxZjKH6ND",
        "outputId": "c6dd0444-1dcc-40fa-f139-f6d418569981",
        "colab": {
          "base_uri": "https://localhost:8080/"
        }
      },
      "execution_count": null,
      "outputs": [
        {
          "output_type": "stream",
          "name": "stdout",
          "text": [
            "['False', 'None', 'True', 'and', 'as', 'assert', 'async', 'await', 'break', 'class', 'continue', 'def', 'del', 'elif', 'else', 'except', 'finally', 'for', 'from', 'global', 'if', 'import', 'in', 'is', 'lambda', 'nonlocal', 'not', 'or', 'pass', 'raise', 'return', 'try', 'while', 'with', 'yield']\n"
          ]
        }
      ]
    },
    {
      "cell_type": "code",
      "source": [
        "false=10\n",
        "print(false)"
      ],
      "metadata": {
        "id": "cEmSSk5UILHB",
        "outputId": "58516f21-dbf6-4d25-e24f-7925777c1a93",
        "colab": {
          "base_uri": "https://localhost:8080/"
        }
      },
      "execution_count": null,
      "outputs": [
        {
          "output_type": "stream",
          "name": "stdout",
          "text": [
            "10\n"
          ]
        }
      ]
    },
    {
      "cell_type": "code",
      "source": [
        "# variable assignment\n",
        "a=b=c =10\n",
        "print(a,b,c)"
      ],
      "metadata": {
        "id": "FT6zdIanJ6c8",
        "outputId": "19840316-46a2-45e4-eb3c-929d4713200d",
        "colab": {
          "base_uri": "https://localhost:8080/"
        }
      },
      "execution_count": null,
      "outputs": [
        {
          "output_type": "stream",
          "name": "stdout",
          "text": [
            "10 10 10\n"
          ]
        }
      ]
    },
    {
      "cell_type": "code",
      "source": [
        "\"\"\"\" Multiline comments\n",
        "see below \"\"\"\n",
        "print('Hi')"
      ],
      "metadata": {
        "id": "F7KIHMWSKRDk",
        "outputId": "299da076-ef9c-44ed-ca8d-55cd08e75c0b",
        "colab": {
          "base_uri": "https://localhost:8080/"
        }
      },
      "execution_count": null,
      "outputs": [
        {
          "output_type": "stream",
          "name": "stdout",
          "text": [
            "Hi\n"
          ]
        }
      ]
    },
    {
      "cell_type": "code",
      "source": [
        "# python strings\n",
        "a='NTT'\n",
        "print(a)\n",
        "b = \"NTT Data\"\n",
        "print(b)\n",
        "c = \"\"\"\" Hi, How are you\n",
        "I am your Boss \"\"\"\n",
        "print(c)\n"
      ],
      "metadata": {
        "id": "JsIan09sM9zf",
        "outputId": "a0feb6c6-22bb-49a6-e7c5-4374a81f030c",
        "colab": {
          "base_uri": "https://localhost:8080/"
        }
      },
      "execution_count": null,
      "outputs": [
        {
          "output_type": "stream",
          "name": "stdout",
          "text": [
            "NTT\n",
            "NTT Data\n",
            "\" Hi, How are you\n",
            "I am your Boss \n"
          ]
        }
      ]
    },
    {
      "cell_type": "code",
      "source": [
        "# Day3\n",
        "# Creating a simple list\n",
        "a = [10, 20.3, \"Ntt\", 40+5j]\n",
        "print(a)\n",
        "print(type(a))"
      ],
      "metadata": {
        "id": "Pn84ckD1STCw",
        "outputId": "3fa69ca5-641b-4258-8fa5-50f578660d70",
        "colab": {
          "base_uri": "https://localhost:8080/"
        }
      },
      "execution_count": null,
      "outputs": [
        {
          "output_type": "stream",
          "name": "stdout",
          "text": [
            "[10, 20.3, 'Ntt', (40+5j)]\n",
            "<class 'list'>\n"
          ]
        }
      ]
    },
    {
      "cell_type": "code",
      "source": [
        "# Type fn return the datatype class\n",
        "a = j+4\n",
        "print(type(a))"
      ],
      "metadata": {
        "id": "Xlw4-DeUT6KC",
        "outputId": "a6773576-b7dd-4704-ab50-c9e1acdda50c",
        "colab": {
          "base_uri": "https://localhost:8080/",
          "height": 176
        }
      },
      "execution_count": null,
      "outputs": [
        {
          "output_type": "error",
          "ename": "NameError",
          "evalue": "name 'j' is not defined",
          "traceback": [
            "\u001b[0;31m---------------------------------------------------------------------------\u001b[0m",
            "\u001b[0;31mNameError\u001b[0m                                 Traceback (most recent call last)",
            "\u001b[0;32m<ipython-input-13-5c72abe787b0>\u001b[0m in \u001b[0;36m<cell line: 0>\u001b[0;34m()\u001b[0m\n\u001b[1;32m      1\u001b[0m \u001b[0;31m# Type fn return the datatype class\u001b[0m\u001b[0;34m\u001b[0m\u001b[0;34m\u001b[0m\u001b[0m\n\u001b[0;32m----> 2\u001b[0;31m \u001b[0ma\u001b[0m \u001b[0;34m=\u001b[0m \u001b[0mj\u001b[0m\u001b[0;34m+\u001b[0m\u001b[0;36m4\u001b[0m\u001b[0;34m\u001b[0m\u001b[0;34m\u001b[0m\u001b[0m\n\u001b[0m\u001b[1;32m      3\u001b[0m \u001b[0mprint\u001b[0m\u001b[0;34m(\u001b[0m\u001b[0mtype\u001b[0m\u001b[0;34m(\u001b[0m\u001b[0ma\u001b[0m\u001b[0;34m)\u001b[0m\u001b[0;34m)\u001b[0m\u001b[0;34m\u001b[0m\u001b[0;34m\u001b[0m\u001b[0m\n",
            "\u001b[0;31mNameError\u001b[0m: name 'j' is not defined"
          ]
        }
      ]
    },
    {
      "cell_type": "code",
      "source": [
        "# variable annotation\n",
        "\n",
        "aa: int = 10\n",
        "print(aa)\n",
        "\n",
        "print(__annotations__['aa'])\n",
        "print(type(aa))"
      ],
      "metadata": {
        "id": "ORgNc0CjXor7",
        "outputId": "1b55ceea-1d08-4b7a-88c2-69750d7ab7c3",
        "colab": {
          "base_uri": "https://localhost:8080/"
        }
      },
      "execution_count": null,
      "outputs": [
        {
          "output_type": "stream",
          "name": "stdout",
          "text": [
            "10\n",
            "<class 'int'>\n",
            "<class 'int'>\n"
          ]
        }
      ]
    },
    {
      "cell_type": "markdown",
      "source": [],
      "metadata": {
        "id": "gmNhk9UpM9Us"
      }
    },
    {
      "cell_type": "code",
      "source": [
        "s= \"Bangalore\"\n",
        "print(s[3:0:-1])"
      ],
      "metadata": {
        "colab": {
          "base_uri": "https://localhost:8080/"
        },
        "id": "Co0-dNF24Lot",
        "outputId": "b65fe544-427f-4c95-a1a7-60e28e8daec6"
      },
      "execution_count": null,
      "outputs": [
        {
          "output_type": "stream",
          "name": "stdout",
          "text": [
            "gna\n"
          ]
        }
      ]
    },
    {
      "cell_type": "code",
      "source": [
        "s = \"Hello World!\"\n",
        "print(s[3:0:-1])"
      ],
      "metadata": {
        "id": "PmdcFtPX9ESO"
      },
      "execution_count": null,
      "outputs": []
    },
    {
      "cell_type": "code",
      "source": [
        "if 10>5:\n",
        "  print(\"\")"
      ],
      "metadata": {
        "colab": {
          "base_uri": "https://localhost:8080/"
        },
        "id": "CGfsUDfXA2Dr",
        "outputId": "fd1d45a0-1896-4f90-9e05-1147c48968ab"
      },
      "execution_count": null,
      "outputs": [
        {
          "output_type": "stream",
          "name": "stdout",
          "text": [
            "\n"
          ]
        }
      ]
    },
    {
      "cell_type": "code",
      "source": [
        "# input function\n",
        "\n",
        "a= int(input(\"Enter a value\"))\n",
        "print(a)\n",
        "print(type(a))"
      ],
      "metadata": {
        "colab": {
          "base_uri": "https://localhost:8080/"
        },
        "id": "4LccQLGLBIVC",
        "outputId": "86498b48-cc71-40fc-851f-ca2174a7e0dc"
      },
      "execution_count": null,
      "outputs": [
        {
          "output_type": "stream",
          "name": "stdout",
          "text": [
            "Enter a value20\n",
            "20\n",
            "<class 'int'>\n"
          ]
        }
      ]
    },
    {
      "cell_type": "code",
      "source": [
        "# prompt: # given string as palindrm\n",
        "\n",
        "def is_palindrome(s):\n",
        "  processed_string = ''.join(filter(str.isalnum, s)).lower()\n",
        "  return processed_string == processed_string[::-1]\n",
        "\n",
        "# Example usage\n",
        "string1 = \"A man, a plan, a canal: Panama\"\n",
        "string2 = \"race a car\"\n",
        "\n",
        "print(f\"'{string1}' is a palindrome: {is_palindrome(string1)}\")\n",
        "print(f\"'{string2}' is a palindrome: {is_palindrome(string2)}\")\n"
      ],
      "metadata": {
        "id": "n4acmTviDV6b",
        "outputId": "c7f1a59a-37cc-4143-fbb0-f88054fd52e7",
        "colab": {
          "base_uri": "https://localhost:8080/"
        }
      },
      "execution_count": null,
      "outputs": [
        {
          "output_type": "stream",
          "name": "stdout",
          "text": [
            "Enter a value: 5\n",
            "a is less than 10\n"
          ]
        }
      ]
    },
    {
      "cell_type": "code",
      "source": [
        "# palindrom\n",
        "a=input(\"Enter a string:\")\n",
        "a=a.lower()\n",
        "b=a[::-1]\n",
        "if a==b:\n",
        "  print(\"palindrome\")\n",
        "else:\n",
        "  print(\"not palindrome\")\n",
        "\n",
        "\n",
        "\n"
      ],
      "metadata": {
        "colab": {
          "base_uri": "https://localhost:8080/"
        },
        "id": "A-k2UAugBhir",
        "outputId": "acba6297-a5fa-416e-e5ca-e71831254c54"
      },
      "execution_count": null,
      "outputs": [
        {
          "output_type": "stream",
          "name": "stdout",
          "text": [
            "Enter a string:Malayalam\n",
            "palindrome\n"
          ]
        }
      ]
    },
    {
      "cell_type": "code",
      "source": [
        "l1 = [10,34,50]\n",
        "l2 = [20,40,60]\n",
        "l3 = l1 + l2\n",
        "print (l3)"
      ],
      "metadata": {
        "colab": {
          "base_uri": "https://localhost:8080/"
        },
        "id": "a2_DUMOg0y0P",
        "outputId": "fdf2a91f-1d6a-4268-a7f6-b99d60ec3cf3"
      },
      "execution_count": 1,
      "outputs": [
        {
          "output_type": "stream",
          "name": "stdout",
          "text": [
            "[10, 34, 50, 20, 40, 60]\n"
          ]
        }
      ]
    },
    {
      "cell_type": "code",
      "source": [
        "# prompt: # membership operator\n",
        "\n",
        "# Membership operator examples\n",
        "my_list = [1, 2, 3, 4, 5]\n",
        "\n",
        "# Check if an element is present in the list\n",
        "print(3 in my_list)  # Output: True\n",
        "print(6 in my_list)  # Output: False\n",
        "\n",
        "# Check if an element is not present in the list\n",
        "print(3 not in my_list)  # Output: False\n",
        "print(6 not in my_list)  # Output: True\n",
        "\n",
        "my_string = \"Hello, world!\"\n",
        "\n",
        "# Check for substrings\n",
        "print(\"world\" in my_string)  # Output: True\n",
        "print(\"python\" in my_string)  # Output: False\n",
        "\n",
        "# Check for characters\n",
        "print(\"H\" in my_string)  # Output: True\n",
        "print(\"z\" in my_string) # Output: False\n"
      ],
      "metadata": {
        "colab": {
          "base_uri": "https://localhost:8080/"
        },
        "id": "bs3MtUiy2Ov1",
        "outputId": "e8e82206-eb8f-428a-ea97-3a8f7d4ec83e"
      },
      "execution_count": 2,
      "outputs": [
        {
          "output_type": "stream",
          "name": "stdout",
          "text": [
            "True\n",
            "False\n",
            "False\n",
            "True\n",
            "True\n",
            "False\n",
            "True\n",
            "False\n"
          ]
        }
      ]
    },
    {
      "cell_type": "code",
      "source": [
        "print (1000 in [10,300,900])\n",
        "print (200 in [10,300,900])\n",
        "print (300 in [10,300,900])\n",
        "print ('NTT' in [\"NTT\", 'NTT DATA'])"
      ],
      "metadata": {
        "colab": {
          "base_uri": "https://localhost:8080/"
        },
        "id": "QLnyoylp3TDk",
        "outputId": "af16a6e5-2fdf-4a12-98b4-493b12f4745f"
      },
      "execution_count": 5,
      "outputs": [
        {
          "output_type": "stream",
          "name": "stdout",
          "text": [
            "False\n",
            "False\n",
            "True\n",
            "True\n"
          ]
        }
      ]
    },
    {
      "cell_type": "code",
      "source": [
        "li =[10, 20]\n",
        "# Initialize a counter\n",
        "counter = 0\n",
        "# Set a limit for the loop\n",
        "limit = 5\n",
        "while counter < limit:\n",
        "  print(\"Loop finished!\")\n",
        "  a = int(input(\"enter a number: \"))\n",
        "  li.append(a)\n",
        "  print(li)\n",
        "  counter += 1  # Increment the counter in each iteration\n",
        "\n",
        "\n",
        "\n"
      ],
      "metadata": {
        "colab": {
          "base_uri": "https://localhost:8080/"
        },
        "id": "b5grB7hi7t2D",
        "outputId": "a026fef0-3cee-46cf-e999-578952ff8a90"
      },
      "execution_count": 6,
      "outputs": [
        {
          "output_type": "stream",
          "name": "stdout",
          "text": [
            "Loop finished!\n",
            "enter a number: 30\n",
            "[10, 20, 30]\n",
            "Loop finished!\n",
            "enter a number: 40\n",
            "[10, 20, 30, 40]\n",
            "Loop finished!\n",
            "enter a number: 50\n",
            "[10, 20, 30, 40, 50]\n",
            "Loop finished!\n",
            "enter a number: 60\n",
            "[10, 20, 30, 40, 50, 60]\n",
            "Loop finished!\n",
            "enter a number: 70\n",
            "[10, 20, 30, 40, 50, 60, 70]\n"
          ]
        }
      ]
    },
    {
      "cell_type": "code",
      "source": [
        "# prompt: # while loop\n",
        "\n",
        "# Initialize a counter\n",
        "counter = 0\n",
        "\n",
        "# Set a limit for the loop\n",
        "limit = 5\n",
        "\n",
        "# While loop that continues as long as the counter is less than the limit\n",
        "while counter < limit:\n",
        "  print(f\"Counter value: {counter}\")\n",
        "  counter += 1  # Increment the counter in each iteration\n",
        "\n",
        "print(\"Loop finished!\")\n"
      ],
      "metadata": {
        "id": "9yPmARsT8P_u"
      },
      "execution_count": null,
      "outputs": []
    },
    {
      "cell_type": "code",
      "source": [
        "s2 = [10,20,30,40,50]\n",
        "removed_element = s2.pop()\n",
        "s2.pop(2)\n",
        "print (removed_element)\n",
        "print (s2)"
      ],
      "metadata": {
        "colab": {
          "base_uri": "https://localhost:8080/"
        },
        "id": "W8hF9sNxAqjr",
        "outputId": "b0a01d63-4a7c-421d-dce3-6121219bdf66"
      },
      "execution_count": 8,
      "outputs": [
        {
          "output_type": "stream",
          "name": "stdout",
          "text": [
            "50\n",
            "[10, 20, 40]\n"
          ]
        }
      ]
    },
    {
      "cell_type": "code",
      "source": [
        "li =  [10,20,10,30,20,45]\n",
        "li2 = set(li)\n",
        "print(li2)"
      ],
      "metadata": {
        "colab": {
          "base_uri": "https://localhost:8080/"
        },
        "id": "ZpT6EKGzDrv3",
        "outputId": "3b56b828-070a-400c-c8e1-865ed13142aa"
      },
      "execution_count": 13,
      "outputs": [
        {
          "output_type": "stream",
          "name": "stdout",
          "text": [
            "{10, 20, 45, 30}\n"
          ]
        }
      ]
    },
    {
      "cell_type": "code",
      "source": [
        "lst = [10,20,10,30,20,45]\n",
        "unique =[]\n",
        "for num in lst:\n",
        "    if num  not in unique:\n",
        "        unique.append(num)\n",
        "\n",
        "print(unique)"
      ],
      "metadata": {
        "colab": {
          "base_uri": "https://localhost:8080/"
        },
        "id": "ykQhR3QQDuFY",
        "outputId": "6d14d960-d964-482b-b511-6fb267ea7ff2"
      },
      "execution_count": 12,
      "outputs": [
        {
          "output_type": "stream",
          "name": "stdout",
          "text": [
            "[10, 20, 30, 45]\n"
          ]
        }
      ]
    },
    {
      "cell_type": "code",
      "source": [
        "s=[10,20,10,30,20,45]\n",
        "lst1=[]\n",
        "for element in s:\n",
        "        if element not in lst1:\n",
        "            lst1.append(element)\n",
        "print(lst1)"
      ],
      "metadata": {
        "colab": {
          "base_uri": "https://localhost:8080/"
        },
        "id": "Sa9ol6EtDxdp",
        "outputId": "02ebd655-68cb-4383-9cdc-c925d8a55822"
      },
      "execution_count": 11,
      "outputs": [
        {
          "output_type": "stream",
          "name": "stdout",
          "text": [
            "[10, 20, 30, 45]\n"
          ]
        }
      ]
    }
  ]
}